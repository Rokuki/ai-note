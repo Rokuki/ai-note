{
 "cells": [
  {
   "cell_type": "code",
   "execution_count": 1,
   "metadata": {},
   "outputs": [],
   "source": [
    "import torch\n",
    "import torch.nn as nn"
   ]
  },
  {
   "cell_type": "code",
   "execution_count": 2,
   "metadata": {},
   "outputs": [],
   "source": [
    "in_channels = 3"
   ]
  },
  {
   "cell_type": "code",
   "execution_count": 3,
   "metadata": {},
   "outputs": [],
   "source": [
    "class DepthWiseNet(nn.Module):\n",
    "    def __init__(self,inchannel,outchannel):\n",
    "        super(DepthWiseNet,self).__init__()\n",
    "        self.depthwise=nn.Sequential(nn.Conv2d(inchannel,outchannel,kernel_size=3,stride=1,padding=0,bias=False))\n",
    "    def forward(self,x):\n",
    "        return self.depthwise(x)"
   ]
  },
  {
   "cell_type": "markdown",
   "metadata": {},
   "source": [
    "## 分离卷积\n",
    "创建3个inchannel=1，outchannel=1的卷积，分别对3个输入通道的图像进行卷积"
   ]
  },
  {
   "cell_type": "code",
   "execution_count": 4,
   "metadata": {},
   "outputs": [
    {
     "data": {
      "text/plain": [
       "[DepthWiseNet(\n",
       "   (depthwise): Sequential(\n",
       "     (0): Conv2d(1, 1, kernel_size=(3, 3), stride=(1, 1), bias=False)\n",
       "   )\n",
       " ),\n",
       " DepthWiseNet(\n",
       "   (depthwise): Sequential(\n",
       "     (0): Conv2d(1, 1, kernel_size=(3, 3), stride=(1, 1), bias=False)\n",
       "   )\n",
       " ),\n",
       " DepthWiseNet(\n",
       "   (depthwise): Sequential(\n",
       "     (0): Conv2d(1, 1, kernel_size=(3, 3), stride=(1, 1), bias=False)\n",
       "   )\n",
       " )]"
      ]
     },
     "execution_count": 4,
     "metadata": {},
     "output_type": "execute_result"
    }
   ],
   "source": [
    "nets = []\n",
    "for i in range(in_channels):\n",
    "    nets.append(DepthWiseNet(1,1))\n",
    "nets"
   ]
  },
  {
   "cell_type": "code",
   "execution_count": 5,
   "metadata": {},
   "outputs": [
    {
     "data": {
      "text/plain": [
       "tensor([[[[ 0.9934,  0.5529, -1.5584, -0.3948, -0.8393],\n",
       "          [ 0.0171, -1.4203,  0.5671,  1.4039,  0.6487],\n",
       "          [-0.9060, -0.7754, -1.5091,  0.8850,  0.5971],\n",
       "          [-0.4518,  0.0793,  1.2403,  1.3125, -0.4387],\n",
       "          [ 0.6843, -0.2675,  0.5599,  1.1151, -0.4898]],\n",
       "\n",
       "         [[ 0.3306, -0.0047, -0.7463, -0.6212, -0.9994],\n",
       "          [ 1.0173, -0.2164, -0.6809,  1.5103,  0.0642],\n",
       "          [ 0.2257, -0.0507,  0.4798, -1.1714, -0.6464],\n",
       "          [ 0.6946,  0.7477, -1.2230,  0.3893,  1.5128],\n",
       "          [ 0.1184,  1.1873,  0.3176, -2.0176,  1.1123]],\n",
       "\n",
       "         [[ 0.9289,  0.6692,  0.2542,  1.3595,  1.3742],\n",
       "          [-0.7226, -1.0381, -0.9920,  1.5727,  0.2699],\n",
       "          [-0.5069, -1.4744, -0.1697, -0.9456, -0.2717],\n",
       "          [ 0.1414, -0.1233, -1.5721,  1.0576, -0.2282],\n",
       "          [ 2.5426,  0.2357, -1.5056, -0.1848, -0.5909]]]])"
      ]
     },
     "execution_count": 5,
     "metadata": {},
     "output_type": "execute_result"
    }
   ],
   "source": [
    "x = torch.randn(1,3,5,5)\n",
    "x"
   ]
  },
  {
   "cell_type": "markdown",
   "metadata": {},
   "source": [
    "## 分离输入图像的三通道"
   ]
  },
  {
   "cell_type": "code",
   "execution_count": 6,
   "metadata": {},
   "outputs": [],
   "source": [
    "def Splitdata(x):\n",
    "    data=[]\n",
    "    for e in x[0]:\n",
    "        data.append(e.unsqueeze(0))\n",
    "    return data"
   ]
  },
  {
   "cell_type": "code",
   "execution_count": 7,
   "metadata": {},
   "outputs": [
    {
     "name": "stdout",
     "output_type": "stream",
     "text": [
      "[tensor([[[ 0.9934,  0.5529, -1.5584, -0.3948, -0.8393],\n",
      "         [ 0.0171, -1.4203,  0.5671,  1.4039,  0.6487],\n",
      "         [-0.9060, -0.7754, -1.5091,  0.8850,  0.5971],\n",
      "         [-0.4518,  0.0793,  1.2403,  1.3125, -0.4387],\n",
      "         [ 0.6843, -0.2675,  0.5599,  1.1151, -0.4898]]]), tensor([[[ 0.3306, -0.0047, -0.7463, -0.6212, -0.9994],\n",
      "         [ 1.0173, -0.2164, -0.6809,  1.5103,  0.0642],\n",
      "         [ 0.2257, -0.0507,  0.4798, -1.1714, -0.6464],\n",
      "         [ 0.6946,  0.7477, -1.2230,  0.3893,  1.5128],\n",
      "         [ 0.1184,  1.1873,  0.3176, -2.0176,  1.1123]]]), tensor([[[ 0.9289,  0.6692,  0.2542,  1.3595,  1.3742],\n",
      "         [-0.7226, -1.0381, -0.9920,  1.5727,  0.2699],\n",
      "         [-0.5069, -1.4744, -0.1697, -0.9456, -0.2717],\n",
      "         [ 0.1414, -0.1233, -1.5721,  1.0576, -0.2282],\n",
      "         [ 2.5426,  0.2357, -1.5056, -0.1848, -0.5909]]])]\n",
      "len of features map:  3\n",
      "torch.Size([1, 5, 5])\n"
     ]
    }
   ],
   "source": [
    "x = Splitdata(x)\n",
    "print(x)\n",
    "print('len of features map: ', len(x))\n",
    "print(x[0].shape)"
   ]
  },
  {
   "cell_type": "markdown",
   "metadata": {},
   "source": [
    "## 逐层进行卷积，最后stack"
   ]
  },
  {
   "cell_type": "code",
   "execution_count": 8,
   "metadata": {},
   "outputs": [
    {
     "name": "stdout",
     "output_type": "stream",
     "text": [
      "3\n",
      "shape:  torch.Size([1, 3, 3, 3])\n"
     ]
    },
    {
     "data": {
      "text/plain": [
       "tensor([[[[-1.5158,  0.9021,  0.8251],\n",
       "          [ 0.7186,  1.2603,  0.6302],\n",
       "          [ 0.4121,  1.7960,  0.0994]],\n",
       "\n",
       "         [[-0.3979,  0.2852,  0.2325],\n",
       "          [-0.1007, -0.3794, -0.0547],\n",
       "          [ 0.1370, -0.2497, -0.2744]],\n",
       "\n",
       "         [[ 0.4448,  0.6724,  0.2236],\n",
       "          [-0.3396, -0.1736, -0.0340],\n",
       "          [-1.0658, -0.1118,  0.1071]]]], grad_fn=<UnsqueezeBackward0>)"
      ]
     },
     "execution_count": 8,
     "metadata": {},
     "output_type": "execute_result"
    }
   ],
   "source": [
    "print(len(x))\n",
    "for i in range(len(x)):\n",
    "    x[i]= nets[i](x[i].unsqueeze(0)).squeeze(0)\n",
    "    x[i]=x[i].squeeze(0)\n",
    "data = torch.stack(x)\n",
    "data = data.unsqueeze(0)\n",
    "print('shape: ', data.shape)\n",
    "data"
   ]
  }
 ],
 "metadata": {
  "kernelspec": {
   "display_name": "Python 3 (ipykernel)",
   "language": "python",
   "name": "python3"
  },
  "language_info": {
   "codemirror_mode": {
    "name": "ipython",
    "version": 3
   },
   "file_extension": ".py",
   "mimetype": "text/x-python",
   "name": "python",
   "nbconvert_exporter": "python",
   "pygments_lexer": "ipython3",
   "version": "3.8.8"
  }
 },
 "nbformat": 4,
 "nbformat_minor": 4
}
