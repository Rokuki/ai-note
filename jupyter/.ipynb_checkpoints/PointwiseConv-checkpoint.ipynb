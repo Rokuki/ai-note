{
 "cells": [
  {
   "cell_type": "code",
   "execution_count": 1,
   "metadata": {},
   "outputs": [],
   "source": [
    "import torch\n",
    "import torch.nn as nn"
   ]
  },
  {
   "cell_type": "code",
   "execution_count": 10,
   "metadata": {},
   "outputs": [
    {
     "data": {
      "text/plain": [
       "PointWiseNet(\n",
       "  (pointwise): Sequential(\n",
       "    (0): Conv2d(3, 4, kernel_size=(1, 1), stride=(1, 1), bias=False)\n",
       "  )\n",
       ")"
      ]
     },
     "execution_count": 10,
     "metadata": {},
     "output_type": "execute_result"
    }
   ],
   "source": [
    "class PointWiseNet(nn.Module):\n",
    "    def __init__(self,inchannel,outchannel,stride=1):\n",
    "        super(PointWiseNet,self).__init__()\n",
    "        self.pointwise=nn.Sequential(nn.Conv2d(inchannel,outchannel,1,stride,0,bias=False))\n",
    "    def forward(self,x):\n",
    "        return self.pointwise(x)\n",
    "net = PointWiseNet(3,4)\n",
    "net"
   ]
  },
  {
   "cell_type": "code",
   "execution_count": 11,
   "metadata": {},
   "outputs": [
    {
     "data": {
      "text/plain": [
       "tensor([[[[-0.9688,  0.4407, -0.9902],\n",
       "          [ 0.7686, -0.6306,  0.2085],\n",
       "          [ 0.2757, -0.3555,  0.9441]],\n",
       "\n",
       "         [[-1.2619, -0.7760,  0.0481],\n",
       "          [-1.1118,  0.3910,  0.0158],\n",
       "          [-0.3264,  0.2587,  0.5802]],\n",
       "\n",
       "         [[-1.5120,  1.0995,  0.9900],\n",
       "          [ 0.4320,  0.3980,  0.6911],\n",
       "          [ 0.3468, -0.7801,  0.4712]]]])"
      ]
     },
     "execution_count": 11,
     "metadata": {},
     "output_type": "execute_result"
    }
   ],
   "source": [
    "x = torch.randn(1,3,3,3)\n",
    "x"
   ]
  },
  {
   "cell_type": "code",
   "execution_count": 12,
   "metadata": {},
   "outputs": [
    {
     "name": "stdout",
     "output_type": "stream",
     "text": [
      "tensor([[[[-0.0025, -0.2630, -0.2458],\n",
      "          [-0.1692, -0.0650, -0.0989],\n",
      "          [-0.0832,  0.1412,  0.0813]],\n",
      "\n",
      "         [[-0.4402, -0.3366, -0.0582],\n",
      "          [-0.4237,  0.1121, -0.0207],\n",
      "          [-0.1334,  0.1257,  0.2279]],\n",
      "\n",
      "         [[-0.6984, -0.4673, -0.4803],\n",
      "          [-0.4133, -0.0737, -0.0517],\n",
      "          [-0.1458,  0.1643,  0.5249]],\n",
      "\n",
      "         [[ 1.1703, -0.3994,  0.2134],\n",
      "          [-0.3121,  0.1359, -0.3098],\n",
      "          [-0.1809,  0.3598, -0.7294]]]], grad_fn=<ThnnConv2DBackward0>)\n",
      "torch.Size([1, 4, 3, 3])\n"
     ]
    }
   ],
   "source": [
    "out = net(x)\n",
    "print(out)\n",
    "print(out.shape)"
   ]
  },
  {
   "cell_type": "code",
   "execution_count": null,
   "metadata": {},
   "outputs": [],
   "source": []
  },
  {
   "cell_type": "code",
   "execution_count": null,
   "metadata": {},
   "outputs": [],
   "source": []
  }
 ],
 "metadata": {
  "kernelspec": {
   "display_name": "Python 3",
   "language": "python",
   "name": "python3"
  },
  "language_info": {
   "codemirror_mode": {
    "name": "ipython",
    "version": 3
   },
   "file_extension": ".py",
   "mimetype": "text/x-python",
   "name": "python",
   "nbconvert_exporter": "python",
   "pygments_lexer": "ipython3",
   "version": "3.8.5"
  }
 },
 "nbformat": 4,
 "nbformat_minor": 5
}
